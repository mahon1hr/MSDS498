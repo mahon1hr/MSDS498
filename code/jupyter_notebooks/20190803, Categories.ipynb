{
 "cells": [
  {
   "cell_type": "markdown",
   "metadata": {},
   "source": [
    "# Categorization"
   ]
  },
  {
   "cell_type": "markdown",
   "metadata": {},
   "source": [
    "#### Import packages and data"
   ]
  },
  {
   "cell_type": "code",
   "execution_count": 2658,
   "metadata": {},
   "outputs": [],
   "source": [
    "import pandas as pd\n",
    "import numpy as np\n",
    "import seaborn as sns\n",
    "import time\n",
    "\n",
    "from glob import glob\n",
    "import matplotlib.pyplot as plt\n",
    "%matplotlib inline\n",
    "\n",
    "from scipy import stats "
   ]
  },
  {
   "cell_type": "code",
   "execution_count": 2659,
   "metadata": {},
   "outputs": [],
   "source": [
    "business=pd.read_csv('C:/Users/marast01/Desktop/PY/yelp_business_85001-85099.csv')\n",
    "demographics=pd.read_csv('C:/Users/marast01/Desktop/PY/Census.csv')"
   ]
  },
  {
   "cell_type": "code",
   "execution_count": 2660,
   "metadata": {},
   "outputs": [
    {
     "data": {
      "text/html": [
       "<div>\n",
       "<style scoped>\n",
       "    .dataframe tbody tr th:only-of-type {\n",
       "        vertical-align: middle;\n",
       "    }\n",
       "\n",
       "    .dataframe tbody tr th {\n",
       "        vertical-align: top;\n",
       "    }\n",
       "\n",
       "    .dataframe thead th {\n",
       "        text-align: right;\n",
       "    }\n",
       "</style>\n",
       "<table border=\"1\" class=\"dataframe\">\n",
       "  <thead>\n",
       "    <tr style=\"text-align: right;\">\n",
       "      <th></th>\n",
       "      <th>business_id</th>\n",
       "      <th>name</th>\n",
       "      <th>neighborhood</th>\n",
       "      <th>address</th>\n",
       "      <th>city</th>\n",
       "      <th>state</th>\n",
       "      <th>postal_code</th>\n",
       "      <th>latitude</th>\n",
       "      <th>longitude</th>\n",
       "      <th>stars</th>\n",
       "      <th>review_count</th>\n",
       "      <th>is_open</th>\n",
       "      <th>categories</th>\n",
       "    </tr>\n",
       "  </thead>\n",
       "  <tbody>\n",
       "    <tr>\n",
       "      <th>0</th>\n",
       "      <td>FYWN1wneV18bWNgQjJ2GNg</td>\n",
       "      <td>\"Dental by Design\"</td>\n",
       "      <td>NaN</td>\n",
       "      <td>\"4855 E Warner Rd, Ste B9\"</td>\n",
       "      <td>Ahwatukee</td>\n",
       "      <td>AZ</td>\n",
       "      <td>85044</td>\n",
       "      <td>33.330690</td>\n",
       "      <td>-111.978599</td>\n",
       "      <td>4.0</td>\n",
       "      <td>22</td>\n",
       "      <td>1</td>\n",
       "      <td>Dentists;General Dentistry;Health &amp; Medical;Or...</td>\n",
       "    </tr>\n",
       "    <tr>\n",
       "      <th>1</th>\n",
       "      <td>KQPW8lFf1y5BT2MxiSZ3QA</td>\n",
       "      <td>\"Western Motor Vehicle\"</td>\n",
       "      <td>NaN</td>\n",
       "      <td>\"6025 N 27th Ave, Ste 1\"</td>\n",
       "      <td>Phoenix</td>\n",
       "      <td>AZ</td>\n",
       "      <td>85017</td>\n",
       "      <td>33.524903</td>\n",
       "      <td>-112.115310</td>\n",
       "      <td>1.5</td>\n",
       "      <td>18</td>\n",
       "      <td>1</td>\n",
       "      <td>Departments of Motor Vehicles;Public Services ...</td>\n",
       "    </tr>\n",
       "  </tbody>\n",
       "</table>\n",
       "</div>"
      ],
      "text/plain": [
       "              business_id                     name neighborhood  \\\n",
       "0  FYWN1wneV18bWNgQjJ2GNg       \"Dental by Design\"          NaN   \n",
       "1  KQPW8lFf1y5BT2MxiSZ3QA  \"Western Motor Vehicle\"          NaN   \n",
       "\n",
       "                      address       city state  postal_code   latitude  \\\n",
       "0  \"4855 E Warner Rd, Ste B9\"  Ahwatukee    AZ        85044  33.330690   \n",
       "1    \"6025 N 27th Ave, Ste 1\"    Phoenix    AZ        85017  33.524903   \n",
       "\n",
       "    longitude  stars  review_count  is_open  \\\n",
       "0 -111.978599    4.0            22        1   \n",
       "1 -112.115310    1.5            18        1   \n",
       "\n",
       "                                          categories  \n",
       "0  Dentists;General Dentistry;Health & Medical;Or...  \n",
       "1  Departments of Motor Vehicles;Public Services ...  "
      ]
     },
     "execution_count": 2660,
     "metadata": {},
     "output_type": "execute_result"
    }
   ],
   "source": [
    "business.head(2)"
   ]
  },
  {
   "cell_type": "markdown",
   "metadata": {},
   "source": [
    "#### Generate new column for single category"
   ]
  },
  {
   "cell_type": "code",
   "execution_count": 2661,
   "metadata": {},
   "outputs": [],
   "source": [
    "business['cat'] = \"NA\""
   ]
  },
  {
   "cell_type": "markdown",
   "metadata": {},
   "source": [
    "#### Generate Dummy Variable Columns"
   ]
  },
  {
   "cell_type": "code",
   "execution_count": 2662,
   "metadata": {},
   "outputs": [],
   "source": [
    "list_dv = ['Fast Food','Bars','Gluten-Free','Vegetarian','Vegan','Pizza']"
   ]
  },
  {
   "cell_type": "code",
   "execution_count": 2663,
   "metadata": {},
   "outputs": [],
   "source": [
    "for i in list_dv: \n",
    "    business[i] = business['categories'].str.contains(i, regex=False)"
   ]
  },
  {
   "cell_type": "code",
   "execution_count": 2664,
   "metadata": {},
   "outputs": [
    {
     "data": {
      "text/html": [
       "<div>\n",
       "<style scoped>\n",
       "    .dataframe tbody tr th:only-of-type {\n",
       "        vertical-align: middle;\n",
       "    }\n",
       "\n",
       "    .dataframe tbody tr th {\n",
       "        vertical-align: top;\n",
       "    }\n",
       "\n",
       "    .dataframe thead th {\n",
       "        text-align: right;\n",
       "    }\n",
       "</style>\n",
       "<table border=\"1\" class=\"dataframe\">\n",
       "  <thead>\n",
       "    <tr style=\"text-align: right;\">\n",
       "      <th></th>\n",
       "      <th>business_id</th>\n",
       "      <th>name</th>\n",
       "      <th>neighborhood</th>\n",
       "      <th>address</th>\n",
       "      <th>city</th>\n",
       "      <th>state</th>\n",
       "      <th>postal_code</th>\n",
       "      <th>latitude</th>\n",
       "      <th>longitude</th>\n",
       "      <th>stars</th>\n",
       "      <th>review_count</th>\n",
       "      <th>is_open</th>\n",
       "      <th>categories</th>\n",
       "      <th>cat</th>\n",
       "      <th>Fast Food</th>\n",
       "      <th>Bars</th>\n",
       "      <th>Gluten-Free</th>\n",
       "      <th>Vegetarian</th>\n",
       "      <th>Vegan</th>\n",
       "      <th>Pizza</th>\n",
       "    </tr>\n",
       "  </thead>\n",
       "  <tbody>\n",
       "    <tr>\n",
       "      <th>0</th>\n",
       "      <td>FYWN1wneV18bWNgQjJ2GNg</td>\n",
       "      <td>\"Dental by Design\"</td>\n",
       "      <td>NaN</td>\n",
       "      <td>\"4855 E Warner Rd, Ste B9\"</td>\n",
       "      <td>Ahwatukee</td>\n",
       "      <td>AZ</td>\n",
       "      <td>85044</td>\n",
       "      <td>33.330690</td>\n",
       "      <td>-111.978599</td>\n",
       "      <td>4.0</td>\n",
       "      <td>22</td>\n",
       "      <td>1</td>\n",
       "      <td>Dentists;General Dentistry;Health &amp; Medical;Or...</td>\n",
       "      <td>NA</td>\n",
       "      <td>False</td>\n",
       "      <td>False</td>\n",
       "      <td>False</td>\n",
       "      <td>False</td>\n",
       "      <td>False</td>\n",
       "      <td>False</td>\n",
       "    </tr>\n",
       "    <tr>\n",
       "      <th>1</th>\n",
       "      <td>KQPW8lFf1y5BT2MxiSZ3QA</td>\n",
       "      <td>\"Western Motor Vehicle\"</td>\n",
       "      <td>NaN</td>\n",
       "      <td>\"6025 N 27th Ave, Ste 1\"</td>\n",
       "      <td>Phoenix</td>\n",
       "      <td>AZ</td>\n",
       "      <td>85017</td>\n",
       "      <td>33.524903</td>\n",
       "      <td>-112.115310</td>\n",
       "      <td>1.5</td>\n",
       "      <td>18</td>\n",
       "      <td>1</td>\n",
       "      <td>Departments of Motor Vehicles;Public Services ...</td>\n",
       "      <td>NA</td>\n",
       "      <td>False</td>\n",
       "      <td>False</td>\n",
       "      <td>False</td>\n",
       "      <td>False</td>\n",
       "      <td>False</td>\n",
       "      <td>False</td>\n",
       "    </tr>\n",
       "  </tbody>\n",
       "</table>\n",
       "</div>"
      ],
      "text/plain": [
       "              business_id                     name neighborhood  \\\n",
       "0  FYWN1wneV18bWNgQjJ2GNg       \"Dental by Design\"          NaN   \n",
       "1  KQPW8lFf1y5BT2MxiSZ3QA  \"Western Motor Vehicle\"          NaN   \n",
       "\n",
       "                      address       city state  postal_code   latitude  \\\n",
       "0  \"4855 E Warner Rd, Ste B9\"  Ahwatukee    AZ        85044  33.330690   \n",
       "1    \"6025 N 27th Ave, Ste 1\"    Phoenix    AZ        85017  33.524903   \n",
       "\n",
       "    longitude  stars  review_count  is_open  \\\n",
       "0 -111.978599    4.0            22        1   \n",
       "1 -112.115310    1.5            18        1   \n",
       "\n",
       "                                          categories cat  Fast Food   Bars  \\\n",
       "0  Dentists;General Dentistry;Health & Medical;Or...  NA      False  False   \n",
       "1  Departments of Motor Vehicles;Public Services ...  NA      False  False   \n",
       "\n",
       "   Gluten-Free  Vegetarian  Vegan  Pizza  \n",
       "0        False       False  False  False  \n",
       "1        False       False  False  False  "
      ]
     },
     "execution_count": 2664,
     "metadata": {},
     "output_type": "execute_result"
    }
   ],
   "source": [
    "business.head(2)"
   ]
  },
  {
   "cell_type": "markdown",
   "metadata": {},
   "source": [
    "#### Filter by restaurants"
   ]
  },
  {
   "cell_type": "code",
   "execution_count": 2665,
   "metadata": {},
   "outputs": [
    {
     "data": {
      "text/plain": [
       "True    3652\n",
       "Name: temp, dtype: int64"
      ]
     },
     "execution_count": 2665,
     "metadata": {},
     "output_type": "execute_result"
    }
   ],
   "source": [
    "business['temp'] = \"0\"\n",
    "business['temp'] = business['categories'].str.contains('Restaurant', regex=False)\n",
    "business = business[business.temp == True]\n",
    "business['temp'].value_counts()"
   ]
  },
  {
   "cell_type": "markdown",
   "metadata": {},
   "source": [
    "#### Categorize a restaurant based on categories"
   ]
  },
  {
   "cell_type": "code",
   "execution_count": 2666,
   "metadata": {},
   "outputs": [],
   "source": [
    "list_cat = ['Nightlife','Music Venues','Venues & Event Spaces','Arts & Entertainment','Grocery',\n",
    "            \n",
    "            #######\n",
    "            \n",
    "            #generic categories go first\n",
    "            'Comfort Food',\n",
    "            'Bars',\n",
    "            'Fast Food',\n",
    "            'Breakfast & Brunch',\n",
    "            'Desserts',           \n",
    "            'Cafes','Bakeries','Delis','Cafeteria',\n",
    "            'American (Traditional)',\n",
    "            'American (New)',\n",
    "            'Seafood',\n",
    "            'Buffets',\n",
    "            'Gluten-Free','Vegetarian', 'Vegan',\n",
    "            'Cheesesteaks','Chicken',\n",
    "            'Hot Dogs',\n",
    "            \n",
    "            #Filter through American food\n",
    "            'Sandwiches','Burgers','Sports Bars','Barbeque','Steakhouses',\n",
    "            #Filter through central American food\n",
    "            'Latin America','Mexican','Tex-Mex','Peruvian','Salvadoran',\n",
    "            #Filter through Mediterranean food\n",
    "            'Mediterranean','Greek',\n",
    "            #Filter through Asian Food\n",
    "            'Chinese','Asian Fusion','Thai','Vietnamese','Japanese','Sushi',\n",
    "            'Korean',\n",
    "            #Filter through Middle East\n",
    "            'Middle Eastern',\n",
    "            \n",
    "            #Filter through pizza and Italian\n",
    "            'Pizza','Italian',\n",
    "            #Filter through Carribean\n",
    "            'Carribean','Caribbean','Cajun','Cuban',\n",
    "            #Filter through European \n",
    "            'Modern European','French',\n",
    "            'Russian','Ukranian','Polish','Uzbek','Afghan',\n",
    "            'German','Bavarian',\n",
    "            'Spanish',\n",
    "            #Filter through African\n",
    "            'African','Ethiopian',\n",
    "            #Filter throuh Indian\n",
    "            'Indian',#'Pakistani',\n",
    "                     \n",
    "            #Filter through Southern\n",
    "            'Southern','Diners','Soul Food',\n",
    "            #Filter through bar restaurants\n",
    "            'Sports Bar','Wine Bars','Gastropub','Cocktail Bars','Dive Bar',\n",
    "            #Filter through misc.\n",
    "            'Coffee & Tea','Juice Bars & Smoothies','Ice Cream & Frozen Yogurt',\n",
    "            'Bagels', 'Donuts',\n",
    "            'Fish & Chips','Kosher','Pretzels',\n",
    "            'Hawaiian', \n",
    "            \n",
    "            ########\n",
    "            \n",
    "            #Label things that are not restaurants\n",
    "            \n",
    "            'Festival','Food Trucks','Event Planning & Services','Grocery', \n",
    "            'Food Delivery Services','Shopping','Active Life', 'Party & Event Planning',\n",
    "            'Health Markets','Convenience Stores', 'Arcades','Professional Services',\n",
    "            'Home & Garden','Dance Clubs', 'Wholesalers','Restaurant Supplies',\n",
    "            'Automotive','Furniture Stores', 'Health & Medical','Gas Stations',\n",
    "            'Kitchen & Bath','Beauty & Spas', 'Home Services','Appliances','Day Spas',\n",
    "            'Personal Chefs','Caterers', 'Fashion','Food Court','Veterinarians'\n",
    "            \n",
    "             ]"
   ]
  },
  {
   "cell_type": "code",
   "execution_count": 2667,
   "metadata": {},
   "outputs": [],
   "source": [
    "for i in list_cat: \n",
    "    business['temp'] = \"0\"\n",
    "    business['temp'] = business['categories'].str.contains(i, regex=False)\n",
    "    business['cat'] = np.where(business['temp'] == True, i, business['cat'])"
   ]
  },
  {
   "cell_type": "code",
   "execution_count": 2668,
   "metadata": {},
   "outputs": [
    {
     "data": {
      "text/plain": [
       "Mexican                      513\n",
       "Sandwiches                   268\n",
       "Burgers                      264\n",
       "Italian                      217\n",
       "Pizza                        195\n",
       "Chinese                      164\n",
       "Caterers                     117\n",
       "American (Traditional)       115\n",
       "American (New)                94\n",
       "Coffee & Tea                  92\n",
       "Sports Bar                    92\n",
       "Sushi                         75\n",
       "Tex-Mex                       61\n",
       "Diners                        60\n",
       "Greek                         59\n",
       "Fast Food                     53\n",
       "Barbeque                      52\n",
       "Food Trucks                   52\n",
       "Wine Bars                     50\n",
       "Ice Cream & Frozen Yogurt     46\n",
       "Chicken                       44\n",
       "Thai                          43\n",
       "Cocktail Bars                 43\n",
       "Steakhouses                   40\n",
       "Vietnamese                    38\n",
       "Juice Bars & Smoothies        34\n",
       "Indian                        34\n",
       "Asian Fusion                  32\n",
       "Japanese                      31\n",
       "Grocery                       27\n",
       "Bagels                        27\n",
       "Food Delivery Services        26\n",
       "Middle Eastern                26\n",
       "Mediterranean                 26\n",
       "NA                            24\n",
       "Breakfast & Brunch            22\n",
       "Soul Food                     22\n",
       "Fish & Chips                  22\n",
       "Buffets                       22\n",
       "Hot Dogs                      21\n",
       "Donuts                        19\n",
       "French                        18\n",
       "Gastropub                     18\n",
       "Hawaiian                      18\n",
       "Event Planning & Services     18\n",
       "Cafes                         16\n",
       "Seafood                       16\n",
       "Bars                          15\n",
       "Southern                      14\n",
       "Korean                        13\n",
       "Dive Bar                      13\n",
       "Delis                         13\n",
       "Bakeries                      12\n",
       "Shopping                      11\n",
       "Health Markets                10\n",
       "Active Life                   10\n",
       "Caribbean                      9\n",
       "Kosher                         9\n",
       "Food Court                     9\n",
       "Vegan                          9\n",
       "Latin America                  8\n",
       "Salvadoran                     8\n",
       "Arcades                        8\n",
       "Cajun                          8\n",
       "Vegetarian                     7\n",
       "Cuban                          7\n",
       "Dance Clubs                    7\n",
       "Convenience Stores             7\n",
       "Fashion                        5\n",
       "Party & Event Planning         5\n",
       "Polish                         5\n",
       "Spanish                        4\n",
       "Festival                       4\n",
       "African                        4\n",
       "Appliances                     4\n",
       "Home Services                  4\n",
       "Ethiopian                      4\n",
       "Bavarian                       3\n",
       "Gas Stations                   3\n",
       "Day Spas                       3\n",
       "Pretzels                       3\n",
       "Health & Medical               3\n",
       "Modern European                3\n",
       "Gluten-Free                    2\n",
       "Afghan                         2\n",
       "Restaurant Supplies            2\n",
       "German                         2\n",
       "Personal Chefs                 2\n",
       "Peruvian                       2\n",
       "Cheesesteaks                   1\n",
       "Furniture Stores               1\n",
       "Arts & Entertainment           1\n",
       "Beauty & Spas                  1\n",
       "Veterinarians                  1\n",
       "Nightlife                      1\n",
       "Cafeteria                      1\n",
       "Comfort Food                   1\n",
       "Russian                        1\n",
       "Kitchen & Bath                 1\n",
       "Name: cat, dtype: int64"
      ]
     },
     "execution_count": 2668,
     "metadata": {},
     "output_type": "execute_result"
    }
   ],
   "source": [
    "business['cat'].value_counts()"
   ]
  },
  {
   "cell_type": "markdown",
   "metadata": {},
   "source": [
    "#### Remove non-restaurant categories that still remain"
   ]
  },
  {
   "cell_type": "code",
   "execution_count": 2669,
   "metadata": {},
   "outputs": [],
   "source": [
    "list_drop = ['Appliances','Home Services','Festival','Health & Medical',\n",
    "             'Gas Stations','Day Spas','Restaurant Supplies',\n",
    "             'Personal Chefs','Veterinarians','Arts & Entertainment',\n",
    "             'Kitchen & Bath','Nightlife','Furniture Stores','Beauty & Spas',\n",
    "             'Arcades','Dance Clubs','Party & Event Planning',\n",
    "             'Convenience Stores','Caterers','Food Trucks','Active Life',\n",
    "             'Food Delivery Services','Health Markets','Shopping','Grocery',\n",
    "             'Event Planning & Services','Fashion'\n",
    "            ]"
   ]
  },
  {
   "cell_type": "code",
   "execution_count": 2670,
   "metadata": {},
   "outputs": [],
   "source": [
    "for i in list_drop:\n",
    "    business = business.loc[business['cat'] != i]"
   ]
  },
  {
   "cell_type": "code",
   "execution_count": 2671,
   "metadata": {},
   "outputs": [
    {
     "data": {
      "text/plain": [
       "3318"
      ]
     },
     "execution_count": 2671,
     "metadata": {},
     "output_type": "execute_result"
    }
   ],
   "source": [
    "business.shape[0]"
   ]
  },
  {
   "cell_type": "code",
   "execution_count": 2672,
   "metadata": {
    "scrolled": true
   },
   "outputs": [
    {
     "data": {
      "text/plain": [
       "Mexican                      513\n",
       "Sandwiches                   268\n",
       "Burgers                      264\n",
       "Italian                      217\n",
       "Pizza                        195\n",
       "Chinese                      164\n",
       "American (Traditional)       115\n",
       "American (New)                94\n",
       "Sports Bar                    92\n",
       "Coffee & Tea                  92\n",
       "Sushi                         75\n",
       "Tex-Mex                       61\n",
       "Diners                        60\n",
       "Greek                         59\n",
       "Fast Food                     53\n",
       "Barbeque                      52\n",
       "Wine Bars                     50\n",
       "Ice Cream & Frozen Yogurt     46\n",
       "Chicken                       44\n",
       "Thai                          43\n",
       "Cocktail Bars                 43\n",
       "Steakhouses                   40\n",
       "Vietnamese                    38\n",
       "Indian                        34\n",
       "Juice Bars & Smoothies        34\n",
       "Asian Fusion                  32\n",
       "Japanese                      31\n",
       "Bagels                        27\n",
       "Mediterranean                 26\n",
       "Middle Eastern                26\n",
       "NA                            24\n",
       "Fish & Chips                  22\n",
       "Buffets                       22\n",
       "Breakfast & Brunch            22\n",
       "Soul Food                     22\n",
       "Hot Dogs                      21\n",
       "Donuts                        19\n",
       "Gastropub                     18\n",
       "Hawaiian                      18\n",
       "French                        18\n",
       "Seafood                       16\n",
       "Cafes                         16\n",
       "Bars                          15\n",
       "Southern                      14\n",
       "Delis                         13\n",
       "Dive Bar                      13\n",
       "Korean                        13\n",
       "Bakeries                      12\n",
       "Vegan                          9\n",
       "Kosher                         9\n",
       "Food Court                     9\n",
       "Caribbean                      9\n",
       "Salvadoran                     8\n",
       "Cajun                          8\n",
       "Latin America                  8\n",
       "Cuban                          7\n",
       "Vegetarian                     7\n",
       "Polish                         5\n",
       "Spanish                        4\n",
       "African                        4\n",
       "Ethiopian                      4\n",
       "Modern European                3\n",
       "Bavarian                       3\n",
       "Pretzels                       3\n",
       "Peruvian                       2\n",
       "Afghan                         2\n",
       "Gluten-Free                    2\n",
       "German                         2\n",
       "Comfort Food                   1\n",
       "Russian                        1\n",
       "Cheesesteaks                   1\n",
       "Cafeteria                      1\n",
       "Name: cat, dtype: int64"
      ]
     },
     "execution_count": 2672,
     "metadata": {},
     "output_type": "execute_result"
    }
   ],
   "source": [
    "pd.set_option('display.max_row', 100)\n",
    "business['cat'].value_counts()"
   ]
  },
  {
   "cell_type": "markdown",
   "metadata": {},
   "source": [
    "#### Categorize a restaurant by its name"
   ]
  },
  {
   "cell_type": "code",
   "execution_count": 2673,
   "metadata": {},
   "outputs": [],
   "source": [
    "business['temp'] = business['name'].str.contains('Burger King', regex=False)\n",
    "business['cat'] = np.where(business['temp'] == True, 'Burger', business['cat'])"
   ]
  },
  {
   "cell_type": "code",
   "execution_count": 2674,
   "metadata": {},
   "outputs": [],
   "source": [
    "business['temp'] = business['name'].str.contains('McDonalds', regex=False)\n",
    "business['cat'] = np.where(business['temp'] == True, 'Burger', business['cat'])"
   ]
  },
  {
   "cell_type": "code",
   "execution_count": 2675,
   "metadata": {},
   "outputs": [],
   "source": [
    "business['temp'] = business['name'].str.contains('Dairy Queen', regex=False)\n",
    "business['cat'] = np.where(business['temp'] == True, 'Ice Cream & Frozen Yogurt', business['cat'])"
   ]
  },
  {
   "cell_type": "code",
   "execution_count": 2676,
   "metadata": {},
   "outputs": [],
   "source": [
    "business['temp'] = business['name'].str.contains('Noodles & Company', regex=False)\n",
    "business['cat'] = np.where(business['temp'] == True, 'American (New)', business['cat'])"
   ]
  },
  {
   "cell_type": "code",
   "execution_count": 2677,
   "metadata": {},
   "outputs": [],
   "source": [
    "business['temp'] = business['name'].str.contains('The Loaded Potato', regex=False)\n",
    "business['cat'] = np.where(business['temp'] == True, 'American (New)', business['cat'])"
   ]
  },
  {
   "cell_type": "code",
   "execution_count": 2678,
   "metadata": {},
   "outputs": [],
   "source": [
    "business['temp'] = business['name'].str.contains('Food Court', regex=False)\n",
    "business['cat'] = np.where(business['temp'] == True, 'Food Court', business['cat'])"
   ]
  },
  {
   "cell_type": "code",
   "execution_count": 2679,
   "metadata": {},
   "outputs": [],
   "source": [
    "business['temp'] = business['name'].str.contains('Sonic', regex=False)\n",
    "business['cat'] = np.where(business['temp'] == True, 'Ice Cream & Frozen Yogurt', business['cat'])"
   ]
  },
  {
   "cell_type": "code",
   "execution_count": 2680,
   "metadata": {},
   "outputs": [],
   "source": [
    "business['temp'] = business['name'].str.contains('Mighty Mikes', regex=False)\n",
    "business['cat'] = np.where(business['temp'] == True, 'Burger', business['cat'])"
   ]
  },
  {
   "cell_type": "code",
   "execution_count": 2681,
   "metadata": {},
   "outputs": [],
   "source": [
    "business['temp'] = business['name'].str.contains('Salad', regex=False)\n",
    "business['cat'] = np.where(business['temp'] == True, 'Salad', business['cat'])"
   ]
  },
  {
   "cell_type": "code",
   "execution_count": 2682,
   "metadata": {},
   "outputs": [],
   "source": [
    "business['temp'] = business['name'].str.contains('Pizza', regex=False)\n",
    "business['cat'] = np.where(business['temp'] == True, 'Pizza', business['cat'])"
   ]
  },
  {
   "cell_type": "code",
   "execution_count": 2683,
   "metadata": {},
   "outputs": [],
   "source": [
    "business['temp'] = business['name'].str.contains('pizza', regex=False)\n",
    "business['cat'] = np.where(business['temp'] == True, 'pizza', business['cat'])"
   ]
  },
  {
   "cell_type": "code",
   "execution_count": 2684,
   "metadata": {},
   "outputs": [],
   "source": [
    "business['temp'] = business['name'].str.contains('Taco', regex=False)\n",
    "business['cat'] = np.where(business['temp'] == True, 'Mexican', business['cat'])"
   ]
  },
  {
   "cell_type": "code",
   "execution_count": 2685,
   "metadata": {},
   "outputs": [],
   "source": [
    "business['temp'] = business['name'].str.contains('taco', regex=False)\n",
    "business['cat'] = np.where(business['temp'] == True, 'Mexican', business['cat'])"
   ]
  },
  {
   "cell_type": "code",
   "execution_count": 2686,
   "metadata": {},
   "outputs": [],
   "source": [
    "business['temp'] = business['name'].str.contains('Carl', regex=False)\n",
    "business['cat'] = np.where(business['temp'] == True, 'Burgers', business['cat'])"
   ]
  },
  {
   "cell_type": "code",
   "execution_count": 2687,
   "metadata": {},
   "outputs": [],
   "source": [
    "business['temp'] = business['name'].str.contains('Red Robin', regex=False)\n",
    "business['cat'] = np.where(business['temp'] == True, 'Burgers', business['cat'])"
   ]
  },
  {
   "cell_type": "code",
   "execution_count": 2688,
   "metadata": {},
   "outputs": [],
   "source": [
    "business['temp'] = business['name'].str.contains(r'(?=.*Jack)(?=.*Box)',regex=True)\n",
    "business['cat'] = np.where(business['temp'] == True, 'Burgers', business['cat'])"
   ]
  },
  {
   "cell_type": "code",
   "execution_count": 2689,
   "metadata": {},
   "outputs": [],
   "source": [
    "business['temp'] = business['name'].str.contains(r'(?=.*Jack)(?=.*box)',regex=True)\n",
    "business['cat'] = np.where(business['temp'] == True, 'Burgers', business['cat'])"
   ]
  },
  {
   "cell_type": "code",
   "execution_count": 2690,
   "metadata": {},
   "outputs": [],
   "source": [
    "business['temp'] = business['name'].str.contains('Chicken', regex=False)\n",
    "business['cat'] = np.where(business['temp'] == True, 'Chicken', business['cat'])"
   ]
  },
  {
   "cell_type": "code",
   "execution_count": 2691,
   "metadata": {},
   "outputs": [],
   "source": [
    "business['temp'] = business['name'].str.contains('Fish', regex=False)\n",
    "business['cat'] = np.where(business['temp'] == True, 'Seafood', business['cat'])"
   ]
  },
  {
   "cell_type": "code",
   "execution_count": 2692,
   "metadata": {},
   "outputs": [],
   "source": [
    "business['temp'] = business['name'].str.contains('Fish & Chips', regex=False)\n",
    "business['cat'] = np.where(business['temp'] == True, 'Fish & Chips', business['cat'])"
   ]
  },
  {
   "cell_type": "code",
   "execution_count": 2693,
   "metadata": {},
   "outputs": [],
   "source": [
    "business['temp'] = business['name'].str.contains('Wong', regex=False)\n",
    "business['cat'] = np.where(business['temp'] == True, 'Chinese', business['cat'])"
   ]
  },
  {
   "cell_type": "code",
   "execution_count": 2694,
   "metadata": {},
   "outputs": [],
   "source": [
    "business['temp'] = business['name'].str.contains('Grill', regex=False)\n",
    "business['cat'] = np.where(business['temp'] == True, 'American (New)', business['cat'])"
   ]
  },
  {
   "cell_type": "code",
   "execution_count": 2695,
   "metadata": {},
   "outputs": [],
   "source": [
    "business['temp'] = business['name'].str.contains('Cafe', regex=False)\n",
    "business['cat'] = np.where(business['temp'] == True, 'Cafe', business['cat'])"
   ]
  },
  {
   "cell_type": "code",
   "execution_count": 2696,
   "metadata": {},
   "outputs": [],
   "source": [
    "business['temp'] = business['name'].str.contains('Deli', regex=False)\n",
    "business['cat'] = np.where(business['temp'] == True, 'Deli', business['cat'])"
   ]
  },
  {
   "cell_type": "code",
   "execution_count": 2697,
   "metadata": {},
   "outputs": [],
   "source": [
    "business['temp'] = business['name'].str.contains('Pretzels', regex=False)\n",
    "business['cat'] = np.where(business['temp'] == True, 'Pretzels', business['cat'])"
   ]
  },
  {
   "cell_type": "code",
   "execution_count": 2698,
   "metadata": {},
   "outputs": [],
   "source": [
    "business['temp'] = business['name'].str.contains('Nueva', regex=False)\n",
    "business['cat'] = np.where(business['temp'] == True, 'Mexican', business['cat'])"
   ]
  },
  {
   "cell_type": "code",
   "execution_count": 2699,
   "metadata": {},
   "outputs": [],
   "source": [
    "business['temp'] = business['name'].str.contains('Pueblo', regex=False)\n",
    "business['cat'] = np.where(business['temp'] == True, 'Mexican', business['cat'])"
   ]
  },
  {
   "cell_type": "code",
   "execution_count": 2700,
   "metadata": {},
   "outputs": [],
   "source": [
    "business['temp'] = business['name'].str.contains('Salsita', regex=False)\n",
    "business['cat'] = np.where(business['temp'] == True, 'Mexican', business['cat'])"
   ]
  },
  {
   "cell_type": "code",
   "execution_count": 2701,
   "metadata": {},
   "outputs": [
    {
     "data": {
      "text/plain": [
       "Mexican                      490\n",
       "American (New)               323\n",
       "Pizza                        279\n",
       "Burgers                      259\n",
       "Sandwiches                   226\n",
       "Chinese                      168\n",
       "Cafe                         165\n",
       "Italian                      120\n",
       "Coffee & Tea                  71\n",
       "Sushi                         67\n",
       "Chicken                       60\n",
       "American (Traditional)        59\n",
       "Ice Cream & Frozen Yogurt     58\n",
       "Diners                        51\n",
       "Barbeque                      49\n",
       "Greek                         48\n",
       "Sports Bar                    47\n",
       "Thai                          42\n",
       "Cocktail Bars                 41\n",
       "Burger                        40\n",
       "Wine Bars                     40\n",
       "Deli                          38\n",
       "Vietnamese                    37\n",
       "Steakhouses                   37\n",
       "Indian                        29\n",
       "Juice Bars & Smoothies        27\n",
       "Japanese                      27\n",
       "Asian Fusion                  26\n",
       "Seafood                       22\n",
       "Bagels                        20\n",
       "Hot Dogs                      19\n",
       "Middle Eastern                18\n",
       "Mediterranean                 18\n",
       "Fish & Chips                  16\n",
       "Gastropub                     16\n",
       "Soul Food                     16\n",
       "Breakfast & Brunch            16\n",
       "French                        15\n",
       "Hawaiian                      15\n",
       "Bars                          14\n",
       "Donuts                        14\n",
       "Buffets                       13\n",
       "Tex-Mex                       13\n",
       "Southern                      11\n",
       "Korean                         9\n",
       "Food Court                     9\n",
       "Dive Bar                       9\n",
       "Vegan                          8\n",
       "Salvadoran                     8\n",
       "Cajun                          7\n",
       "Vegetarian                     7\n",
       "Bakeries                       7\n",
       "Latin America                  6\n",
       "Salad                          6\n",
       "Caribbean                      6\n",
       "Cafes                          5\n",
       "Kosher                         5\n",
       "Ethiopian                      4\n",
       "Cuban                          4\n",
       "Spanish                        4\n",
       "African                        4\n",
       "Pretzels                       4\n",
       "Delis                          4\n",
       "NA                             3\n",
       "Bavarian                       3\n",
       "Modern European                2\n",
       "Afghan                         2\n",
       "Gluten-Free                    2\n",
       "pizza                          2\n",
       "Polish                         2\n",
       "German                         2\n",
       "Peruvian                       2\n",
       "Comfort Food                   1\n",
       "Cheesesteaks                   1\n",
       "Name: cat, dtype: int64"
      ]
     },
     "execution_count": 2701,
     "metadata": {},
     "output_type": "execute_result"
    }
   ],
   "source": [
    "pd.set_option('display.max_row', 100)\n",
    "business['cat'].value_counts()"
   ]
  },
  {
   "cell_type": "markdown",
   "metadata": {},
   "source": [
    "#### Consolidate categories"
   ]
  },
  {
   "cell_type": "code",
   "execution_count": 2702,
   "metadata": {},
   "outputs": [],
   "source": [
    "business['temp'] = business['cat'].str.contains('Bavarian', regex=False)\n",
    "business['cat'] = np.where(business['temp'] == True, 'German', business['cat'])"
   ]
  },
  {
   "cell_type": "code",
   "execution_count": 2703,
   "metadata": {},
   "outputs": [],
   "source": [
    "business['temp'] = business['cat'].str.contains('Salvadoran', regex=False)\n",
    "business['cat'] = np.where(business['temp'] == True, 'Latin America', business['cat'])"
   ]
  },
  {
   "cell_type": "code",
   "execution_count": 2704,
   "metadata": {},
   "outputs": [],
   "source": [
    "business['temp'] = business['cat'].str.contains('Peruvian', regex=False)\n",
    "business['cat'] = np.where(business['temp'] == True, 'Latin America', business['cat'])"
   ]
  },
  {
   "cell_type": "code",
   "execution_count": 2705,
   "metadata": {},
   "outputs": [],
   "source": [
    "business['temp'] = business['cat'].str.contains('Ethiopian', regex=False)\n",
    "business['cat'] = np.where(business['temp'] == True, 'African', business['cat'])"
   ]
  },
  {
   "cell_type": "code",
   "execution_count": 2728,
   "metadata": {},
   "outputs": [],
   "source": [
    "business['temp'] = business['cat'].str.contains('Cheesesteaks', regex=False)\n",
    "business['cat'] = np.where(business['temp'] == True, 'Sandwiches', business['cat'])"
   ]
  },
  {
   "cell_type": "code",
   "execution_count": 2729,
   "metadata": {},
   "outputs": [],
   "source": [
    "business['temp'] = business['cat'].str.contains('pizza', regex=False)\n",
    "business['cat'] = np.where(business['temp'] == True, 'Pizza', business['cat'])"
   ]
  },
  {
   "cell_type": "code",
   "execution_count": 2730,
   "metadata": {},
   "outputs": [
    {
     "data": {
      "text/plain": [
       "Mexican                      490\n",
       "American (New)               323\n",
       "Pizza                        281\n",
       "Burgers                      259\n",
       "Sandwiches                   227\n",
       "Chinese                      168\n",
       "Cafe                         165\n",
       "Italian                      120\n",
       "Coffee & Tea                  71\n",
       "Sushi                         67\n",
       "Chicken                       60\n",
       "American (Traditional)        59\n",
       "Ice Cream & Frozen Yogurt     58\n",
       "Diners                        51\n",
       "Barbeque                      49\n",
       "Greek                         48\n",
       "Sports Bar                    47\n",
       "Thai                          42\n",
       "Cocktail Bars                 41\n",
       "Wine Bars                     40\n",
       "Burger                        40\n",
       "Deli                          38\n",
       "Steakhouses                   37\n",
       "Vietnamese                    37\n",
       "Indian                        29\n",
       "Juice Bars & Smoothies        27\n",
       "Japanese                      27\n",
       "Asian Fusion                  26\n",
       "Seafood                       22\n",
       "Bagels                        20\n",
       "Hot Dogs                      19\n",
       "Mediterranean                 18\n",
       "Middle Eastern                18\n",
       "Soul Food                     16\n",
       "Latin America                 16\n",
       "Gastropub                     16\n",
       "Breakfast & Brunch            16\n",
       "Fish & Chips                  16\n",
       "French                        15\n",
       "Hawaiian                      15\n",
       "Donuts                        14\n",
       "Bars                          14\n",
       "Buffets                       13\n",
       "Tex-Mex                       13\n",
       "Southern                      11\n",
       "Dive Bar                       9\n",
       "Food Court                     9\n",
       "Korean                         9\n",
       "African                        8\n",
       "Vegan                          8\n",
       "Cajun                          7\n",
       "Vegetarian                     7\n",
       "Bakeries                       7\n",
       "Caribbean                      6\n",
       "Salad                          6\n",
       "Kosher                         5\n",
       "Cafes                          5\n",
       "German                         5\n",
       "Pretzels                       4\n",
       "Cuban                          4\n",
       "Spanish                        4\n",
       "Delis                          4\n",
       "NA                             3\n",
       "Modern European                2\n",
       "Afghan                         2\n",
       "Gluten-Free                    2\n",
       "Polish                         2\n",
       "Comfort Food                   1\n",
       "Name: cat, dtype: int64"
      ]
     },
     "execution_count": 2730,
     "metadata": {},
     "output_type": "execute_result"
    }
   ],
   "source": [
    "business['cat'].value_counts()"
   ]
  },
  {
   "cell_type": "markdown",
   "metadata": {},
   "source": [
    "#### Chains (https://www.restaurantbusinessonline.com/top-500-chains)"
   ]
  },
  {
   "cell_type": "code",
   "execution_count": 2711,
   "metadata": {},
   "outputs": [],
   "source": [
    "business['chain'] = False\n",
    "business['chain'] = business.groupby(['name']).transform('count')"
   ]
  },
  {
   "cell_type": "code",
   "execution_count": 2712,
   "metadata": {},
   "outputs": [],
   "source": [
    "business['chain'] = np.where(business['chain'] > 1, True, False)"
   ]
  },
  {
   "cell_type": "code",
   "execution_count": 2713,
   "metadata": {},
   "outputs": [
    {
     "data": {
      "text/html": [
       "<div>\n",
       "<style scoped>\n",
       "    .dataframe tbody tr th:only-of-type {\n",
       "        vertical-align: middle;\n",
       "    }\n",
       "\n",
       "    .dataframe tbody tr th {\n",
       "        vertical-align: top;\n",
       "    }\n",
       "\n",
       "    .dataframe thead th {\n",
       "        text-align: right;\n",
       "    }\n",
       "</style>\n",
       "<table border=\"1\" class=\"dataframe\">\n",
       "  <thead>\n",
       "    <tr style=\"text-align: right;\">\n",
       "      <th></th>\n",
       "      <th>business_id</th>\n",
       "      <th>name</th>\n",
       "      <th>neighborhood</th>\n",
       "      <th>address</th>\n",
       "      <th>city</th>\n",
       "      <th>state</th>\n",
       "      <th>postal_code</th>\n",
       "      <th>latitude</th>\n",
       "      <th>longitude</th>\n",
       "      <th>stars</th>\n",
       "      <th>...</th>\n",
       "      <th>categories</th>\n",
       "      <th>cat</th>\n",
       "      <th>Fast Food</th>\n",
       "      <th>Bars</th>\n",
       "      <th>Gluten-Free</th>\n",
       "      <th>Vegetarian</th>\n",
       "      <th>Vegan</th>\n",
       "      <th>Pizza</th>\n",
       "      <th>temp</th>\n",
       "      <th>chain</th>\n",
       "    </tr>\n",
       "  </thead>\n",
       "  <tbody>\n",
       "    <tr>\n",
       "      <th>5</th>\n",
       "      <td>rDMptJYWtnMhpQu_rRXHng</td>\n",
       "      <td>\"McDonald's\"</td>\n",
       "      <td>NaN</td>\n",
       "      <td>\"719 E Thunderbird Rd\"</td>\n",
       "      <td>Phoenix</td>\n",
       "      <td>AZ</td>\n",
       "      <td>85022</td>\n",
       "      <td>33.607070</td>\n",
       "      <td>-112.064382</td>\n",
       "      <td>1.0</td>\n",
       "      <td>...</td>\n",
       "      <td>Fast Food;Burgers;Restaurants</td>\n",
       "      <td>Burgers</td>\n",
       "      <td>True</td>\n",
       "      <td>False</td>\n",
       "      <td>False</td>\n",
       "      <td>False</td>\n",
       "      <td>False</td>\n",
       "      <td>False</td>\n",
       "      <td>False</td>\n",
       "      <td>True</td>\n",
       "    </tr>\n",
       "    <tr>\n",
       "      <th>6</th>\n",
       "      <td>1WBkAuQg81kokZIPMpn9Zg</td>\n",
       "      <td>\"Charr An American Burger Bar\"</td>\n",
       "      <td>NaN</td>\n",
       "      <td>\"777 E Thunderbird Rd, Ste 107\"</td>\n",
       "      <td>Phoenix</td>\n",
       "      <td>AZ</td>\n",
       "      <td>85022</td>\n",
       "      <td>33.607310</td>\n",
       "      <td>-112.063404</td>\n",
       "      <td>3.0</td>\n",
       "      <td>...</td>\n",
       "      <td>Burgers;Restaurants</td>\n",
       "      <td>Burgers</td>\n",
       "      <td>False</td>\n",
       "      <td>False</td>\n",
       "      <td>False</td>\n",
       "      <td>False</td>\n",
       "      <td>False</td>\n",
       "      <td>False</td>\n",
       "      <td>False</td>\n",
       "      <td>False</td>\n",
       "    </tr>\n",
       "    <tr>\n",
       "      <th>8</th>\n",
       "      <td>iPa__LOhse-hobC2Xmp-Kw</td>\n",
       "      <td>\"McDonald's\"</td>\n",
       "      <td>NaN</td>\n",
       "      <td>\"1635 E Camelback Rd\"</td>\n",
       "      <td>Phoenix</td>\n",
       "      <td>AZ</td>\n",
       "      <td>85016</td>\n",
       "      <td>33.508765</td>\n",
       "      <td>-112.046240</td>\n",
       "      <td>3.0</td>\n",
       "      <td>...</td>\n",
       "      <td>Restaurants;Burgers;Fast Food</td>\n",
       "      <td>Burgers</td>\n",
       "      <td>True</td>\n",
       "      <td>False</td>\n",
       "      <td>False</td>\n",
       "      <td>False</td>\n",
       "      <td>False</td>\n",
       "      <td>False</td>\n",
       "      <td>False</td>\n",
       "      <td>True</td>\n",
       "    </tr>\n",
       "    <tr>\n",
       "      <th>12</th>\n",
       "      <td>QkG3KUXwqZBW18A9k1xqCA</td>\n",
       "      <td>\"Red Lobster\"</td>\n",
       "      <td>NaN</td>\n",
       "      <td>\"2810 North 75th Ave\"</td>\n",
       "      <td>Phoenix</td>\n",
       "      <td>AZ</td>\n",
       "      <td>85035</td>\n",
       "      <td>33.478735</td>\n",
       "      <td>-112.221379</td>\n",
       "      <td>2.5</td>\n",
       "      <td>...</td>\n",
       "      <td>American (Traditional);Restaurants;Seafood</td>\n",
       "      <td>Seafood</td>\n",
       "      <td>False</td>\n",
       "      <td>False</td>\n",
       "      <td>False</td>\n",
       "      <td>False</td>\n",
       "      <td>False</td>\n",
       "      <td>False</td>\n",
       "      <td>False</td>\n",
       "      <td>True</td>\n",
       "    </tr>\n",
       "    <tr>\n",
       "      <th>13</th>\n",
       "      <td>5XejqzaFmtkZMstJS5Iy-w</td>\n",
       "      <td>\"D'Lish Cafe\"</td>\n",
       "      <td>NaN</td>\n",
       "      <td>\"503 W Thomas Rd\"</td>\n",
       "      <td>Phoenix</td>\n",
       "      <td>AZ</td>\n",
       "      <td>85013</td>\n",
       "      <td>33.480301</td>\n",
       "      <td>-112.080586</td>\n",
       "      <td>4.0</td>\n",
       "      <td>...</td>\n",
       "      <td>Vegan;American (New);Restaurants;Sandwiches;Sa...</td>\n",
       "      <td>Cafe</td>\n",
       "      <td>False</td>\n",
       "      <td>False</td>\n",
       "      <td>False</td>\n",
       "      <td>False</td>\n",
       "      <td>True</td>\n",
       "      <td>False</td>\n",
       "      <td>False</td>\n",
       "      <td>False</td>\n",
       "    </tr>\n",
       "  </tbody>\n",
       "</table>\n",
       "<p>5 rows × 22 columns</p>\n",
       "</div>"
      ],
      "text/plain": [
       "               business_id                            name neighborhood  \\\n",
       "5   rDMptJYWtnMhpQu_rRXHng                    \"McDonald's\"          NaN   \n",
       "6   1WBkAuQg81kokZIPMpn9Zg  \"Charr An American Burger Bar\"          NaN   \n",
       "8   iPa__LOhse-hobC2Xmp-Kw                    \"McDonald's\"          NaN   \n",
       "12  QkG3KUXwqZBW18A9k1xqCA                   \"Red Lobster\"          NaN   \n",
       "13  5XejqzaFmtkZMstJS5Iy-w                   \"D'Lish Cafe\"          NaN   \n",
       "\n",
       "                            address     city state  postal_code   latitude  \\\n",
       "5            \"719 E Thunderbird Rd\"  Phoenix    AZ        85022  33.607070   \n",
       "6   \"777 E Thunderbird Rd, Ste 107\"  Phoenix    AZ        85022  33.607310   \n",
       "8             \"1635 E Camelback Rd\"  Phoenix    AZ        85016  33.508765   \n",
       "12            \"2810 North 75th Ave\"  Phoenix    AZ        85035  33.478735   \n",
       "13                \"503 W Thomas Rd\"  Phoenix    AZ        85013  33.480301   \n",
       "\n",
       "     longitude  stars  ...                                         categories  \\\n",
       "5  -112.064382    1.0  ...                      Fast Food;Burgers;Restaurants   \n",
       "6  -112.063404    3.0  ...                                Burgers;Restaurants   \n",
       "8  -112.046240    3.0  ...                      Restaurants;Burgers;Fast Food   \n",
       "12 -112.221379    2.5  ...         American (Traditional);Restaurants;Seafood   \n",
       "13 -112.080586    4.0  ...  Vegan;American (New);Restaurants;Sandwiches;Sa...   \n",
       "\n",
       "        cat Fast Food   Bars  Gluten-Free  Vegetarian  Vegan  Pizza   temp  \\\n",
       "5   Burgers      True  False        False       False  False  False  False   \n",
       "6   Burgers     False  False        False       False  False  False  False   \n",
       "8   Burgers      True  False        False       False  False  False  False   \n",
       "12  Seafood     False  False        False       False  False  False  False   \n",
       "13     Cafe     False  False        False       False   True  False  False   \n",
       "\n",
       "    chain  \n",
       "5    True  \n",
       "6   False  \n",
       "8    True  \n",
       "12   True  \n",
       "13  False  \n",
       "\n",
       "[5 rows x 22 columns]"
      ]
     },
     "execution_count": 2713,
     "metadata": {},
     "output_type": "execute_result"
    }
   ],
   "source": [
    "business.head(5)"
   ]
  },
  {
   "cell_type": "markdown",
   "metadata": {},
   "source": [
    "#### Check on value counts"
   ]
  },
  {
   "cell_type": "code",
   "execution_count": 2719,
   "metadata": {},
   "outputs": [
    {
     "data": {
      "text/plain": [
       "Mexican                      490\n",
       "American (New)               323\n",
       "Pizza                        279\n",
       "Burgers                      259\n",
       "Sandwiches                   227\n",
       "Chinese                      168\n",
       "Cafe                         165\n",
       "Italian                      120\n",
       "Coffee & Tea                  71\n",
       "Sushi                         67\n",
       "Chicken                       60\n",
       "American (Traditional)        59\n",
       "Ice Cream & Frozen Yogurt     58\n",
       "Diners                        51\n",
       "Barbeque                      49\n",
       "Greek                         48\n",
       "Sports Bar                    47\n",
       "Thai                          42\n",
       "Cocktail Bars                 41\n",
       "Wine Bars                     40\n",
       "Burger                        40\n",
       "Deli                          38\n",
       "Steakhouses                   37\n",
       "Vietnamese                    37\n",
       "Indian                        29\n",
       "Juice Bars & Smoothies        27\n",
       "Japanese                      27\n",
       "Asian Fusion                  26\n",
       "Seafood                       22\n",
       "Bagels                        20\n",
       "Hot Dogs                      19\n",
       "Mediterranean                 18\n",
       "Middle Eastern                18\n",
       "Gastropub                     16\n",
       "Soul Food                     16\n",
       "Fish & Chips                  16\n",
       "Latin America                 16\n",
       "Breakfast & Brunch            16\n",
       "Hawaiian                      15\n",
       "French                        15\n",
       "Bars                          14\n",
       "Donuts                        14\n",
       "Tex-Mex                       13\n",
       "Buffets                       13\n",
       "Southern                      11\n",
       "Food Court                     9\n",
       "Dive Bar                       9\n",
       "Korean                         9\n",
       "Vegan                          8\n",
       "African                        8\n",
       "Bakeries                       7\n",
       "Vegetarian                     7\n",
       "Cajun                          7\n",
       "Salad                          6\n",
       "Caribbean                      6\n",
       "German                         5\n",
       "Kosher                         5\n",
       "Cafes                          5\n",
       "Delis                          4\n",
       "Cuban                          4\n",
       "Spanish                        4\n",
       "Pretzels                       4\n",
       "NA                             3\n",
       "Gluten-Free                    2\n",
       "Modern European                2\n",
       "Polish                         2\n",
       "pizza                          2\n",
       "Afghan                         2\n",
       "Comfort Food                   1\n",
       "Name: cat, dtype: int64"
      ]
     },
     "execution_count": 2719,
     "metadata": {},
     "output_type": "execute_result"
    }
   ],
   "source": [
    "business['cat'].value_counts()"
   ]
  },
  {
   "cell_type": "code",
   "execution_count": 2721,
   "metadata": {},
   "outputs": [
    {
     "data": {
      "text/plain": [
       "False    2745\n",
       "True      573\n",
       "Name: Fast Food, dtype: int64"
      ]
     },
     "execution_count": 2721,
     "metadata": {},
     "output_type": "execute_result"
    }
   ],
   "source": [
    "business['Fast Food'].value_counts()"
   ]
  },
  {
   "cell_type": "code",
   "execution_count": 2722,
   "metadata": {},
   "outputs": [
    {
     "data": {
      "text/plain": [
       "False    2801\n",
       "True      517\n",
       "Name: Bars, dtype: int64"
      ]
     },
     "execution_count": 2722,
     "metadata": {},
     "output_type": "execute_result"
    }
   ],
   "source": [
    "business['Bars'].value_counts()"
   ]
  },
  {
   "cell_type": "code",
   "execution_count": 2723,
   "metadata": {},
   "outputs": [
    {
     "data": {
      "text/plain": [
       "False    3269\n",
       "True       49\n",
       "Name: Gluten-Free, dtype: int64"
      ]
     },
     "execution_count": 2723,
     "metadata": {},
     "output_type": "execute_result"
    }
   ],
   "source": [
    "business['Gluten-Free'].value_counts()"
   ]
  },
  {
   "cell_type": "code",
   "execution_count": 2724,
   "metadata": {},
   "outputs": [
    {
     "data": {
      "text/plain": [
       "False    3253\n",
       "True       65\n",
       "Name: Vegetarian, dtype: int64"
      ]
     },
     "execution_count": 2724,
     "metadata": {},
     "output_type": "execute_result"
    }
   ],
   "source": [
    "business['Vegetarian'].value_counts()"
   ]
  },
  {
   "cell_type": "code",
   "execution_count": 2725,
   "metadata": {},
   "outputs": [
    {
     "data": {
      "text/plain": [
       "False    3284\n",
       "True       34\n",
       "Name: Vegan, dtype: int64"
      ]
     },
     "execution_count": 2725,
     "metadata": {},
     "output_type": "execute_result"
    }
   ],
   "source": [
    "business['Vegan'].value_counts()"
   ]
  },
  {
   "cell_type": "code",
   "execution_count": 2726,
   "metadata": {},
   "outputs": [
    {
     "data": {
      "text/plain": [
       "False    2933\n",
       "True      385\n",
       "Name: Pizza, dtype: int64"
      ]
     },
     "execution_count": 2726,
     "metadata": {},
     "output_type": "execute_result"
    }
   ],
   "source": [
    "business['Pizza'].value_counts()"
   ]
  },
  {
   "cell_type": "code",
   "execution_count": 2727,
   "metadata": {},
   "outputs": [
    {
     "data": {
      "text/plain": [
       "False    2087\n",
       "True     1231\n",
       "Name: chain, dtype: int64"
      ]
     },
     "execution_count": 2727,
     "metadata": {},
     "output_type": "execute_result"
    }
   ],
   "source": [
    "business['chain'].value_counts()"
   ]
  },
  {
   "cell_type": "markdown",
   "metadata": {},
   "source": [
    "#### Use the code below to interrogate categories"
   ]
  },
  {
   "cell_type": "code",
   "execution_count": 2717,
   "metadata": {},
   "outputs": [],
   "source": [
    "i = False #write in what category you are interested in"
   ]
  },
  {
   "cell_type": "code",
   "execution_count": 2718,
   "metadata": {},
   "outputs": [
    {
     "data": {
      "text/plain": [
       "\"Bamboo Grille\"                                True\n",
       "\"Lennys Burger\"                                True\n",
       "\"Mr Leno\"                                      True\n",
       "\"Salute Ristorante Italiano\"                   True\n",
       "\"Fuego CityScape\"                              True\n",
       "\"Pure Sushi Colony\"                            True\n",
       "\"Asian Seafood Buffet\"                         True\n",
       "\"China Restaurant\"                             True\n",
       "\"Barfly\"                                       True\n",
       "\"El Rinconcito Mexican Food\"                   True\n",
       "\"Bobby D's Restaurant & Lounge\"                True\n",
       "\"Pacifica Ceviche\"                             True\n",
       "\"Stacy's Pampered Pig\"                         True\n",
       "\"Hana Sushi\"                                   True\n",
       "\"Michelina's\"                                  True\n",
       "\"Caffe Daniel\"                                 True\n",
       "\"Zookz Sandwiches\"                             True\n",
       "\"Melrose Kitchen\"                              True\n",
       "\"SaBai Modern Thai\"                            True\n",
       "\"Turk's Fish and Chips\"                        True\n",
       "\"La Tradicion Restaurant\"                      True\n",
       "\"Tutti Santi\"                                  True\n",
       "\"Pittsburgh Pizza Company\"                     True\n",
       "\"Casa Filipina Bakeshop & Restaurant\"          True\n",
       "\"TŪK Urban Kafé\"                               True\n",
       "\"Phuong Dong\"                                  True\n",
       "\"Moira Sushi Bar & Kitchen\"                    True\n",
       "\"Teakwoods Tavern & Grill\"                     True\n",
       "\"Bush's Chicken\"                               True\n",
       "\"Hong Kong Gourmet Buffet\"                     True\n",
       "\"Indian Express\"                               True\n",
       "\"Barrio Cafe\"                                  True\n",
       "\"Senor Pizza\"                                  True\n",
       "\"Our Family's Bistro\"                          True\n",
       "\"Mi Comida Restaurante Latino\"                 True\n",
       "\"The Notorious P I G\"                          True\n",
       "\"Yoshi's\"                                      True\n",
       "\"Chili's Grill & Bar Catering\"                 True\n",
       "\"Little King of Kings\"                         True\n",
       "\"Pizza & Krispy Krunchy Chicken\"               True\n",
       "\"Elephant Bar Restaurant\"                      True\n",
       "\"Vitamin T\"                                    True\n",
       "\"Mariscos Playa Del Sol\"                       True\n",
       "\"Gadzooks Enchiladas & Soup\"                   True\n",
       "\"Copper Blues Rock Pub & Kitchen - Phoenix\"    True\n",
       "\"Romero's Mexican Food\"                        True\n",
       "\"Forno 301\"                                    True\n",
       "\"Tacos Sahuaro\"                                True\n",
       "\"La Piazza PHX\"                                True\n",
       "\"La Madeleine Country French Cafe\"             True\n",
       "                                               ... \n",
       "\"JB's Restaurant\"                              True\n",
       "\"Bacchanal Ristorante\"                         True\n",
       "\"Best of Philly\"                               True\n",
       "\"Pho Bang Restaurant\"                          True\n",
       "\"Chestnut Lane\"                                True\n",
       "\"PDQ\"                                          True\n",
       "\"Imperial Garden Chinese Buffett\"              True\n",
       "\"Scooter's Coffee\"                             True\n",
       "\"Santa Madre Taco Shop\"                        True\n",
       "\"Jacksons Food Store\"                          True\n",
       "\"South Bank Grill\"                             True\n",
       "\"Los Portales\"                                 True\n",
       "\"Ichi Bowl\"                                    True\n",
       "\"O to Go Coffee Bar\"                           True\n",
       "\"Hopdoddy Burger Bar\"                          True\n",
       "\"Mariscos el Cochorit\"                         True\n",
       "\"Golden Thai Kitchen\"                          True\n",
       "\"Richardson's Cuisine of New Mexico\"           True\n",
       "\"Nori Sushi\"                                   True\n",
       "\"La Canasta\"                                   True\n",
       "\"Thai Basil\"                                   True\n",
       "\"DaVang's\"                                     True\n",
       "\"Squash Blossom\"                               True\n",
       "\"Sing High Chop Suey House\"                    True\n",
       "\"Lone Star Steakhouse\"                         True\n",
       "\"Lucky's Burgers & Shakes\"                     True\n",
       "\"Long Wong's North Phoenix\"                    True\n",
       "\"Our Gang Sports Saloon & Grill\"               True\n",
       "\"JoBot Coffee & Diner\"                         True\n",
       "\"Ming's Pagoda\"                                True\n",
       "\"Jacquee's Espresso\"                           True\n",
       "\"CoR Tapas & Wine\"                             True\n",
       "\"Wildberri\"                                    True\n",
       "\"Culvers\"                                      True\n",
       "\"Great China Super Buffet\"                     True\n",
       "\"Tom Yum Thai Restaurant\"                      True\n",
       "\"Focaccia Fiorentina\"                          True\n",
       "\"Buffalo Browns Wings and Things\"              True\n",
       "\"Floyd's Kitchen\"                              True\n",
       "\"Pak Afghan Halal Restaurant & Catering\"       True\n",
       "\"Edelweiss German Deli\"                        True\n",
       "\"Sushi Ken\"                                    True\n",
       "\"Tacos Jalisco\"                                True\n",
       "\"Nuevo Burrito\"                                True\n",
       "\"Cervantes Bistro At Royal Palms Resort\"       True\n",
       "\"Koreana BBQ\"                                  True\n",
       "\"Chennai Chettinaad Palace\"                    True\n",
       "\"Filiberto's Mexican Rest\"                     True\n",
       "\"12th Fairway Bar & Grill\"                     True\n",
       "\"Rodibertos Mexican Food\"                      True\n",
       "Name: name, Length: 2087, dtype: bool"
      ]
     },
     "execution_count": 2718,
     "metadata": {},
     "output_type": "execute_result"
    }
   ],
   "source": [
    "bizzy = business.loc[business['chain']==i]\n",
    "pd.set_option('display.max_row', 100)\n",
    "bizzy['name'].value_counts() ==1"
   ]
  },
  {
   "cell_type": "code",
   "execution_count": null,
   "metadata": {},
   "outputs": [],
   "source": [
    "bizzy.head(20)"
   ]
  }
 ],
 "metadata": {
  "kernelspec": {
   "display_name": "Python 3",
   "language": "python",
   "name": "python3"
  },
  "language_info": {
   "codemirror_mode": {
    "name": "ipython",
    "version": 3
   },
   "file_extension": ".py",
   "mimetype": "text/x-python",
   "name": "python",
   "nbconvert_exporter": "python",
   "pygments_lexer": "ipython3",
   "version": "3.7.3"
  }
 },
 "nbformat": 4,
 "nbformat_minor": 2
}
